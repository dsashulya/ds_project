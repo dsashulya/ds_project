{
 "cells": [
  {
   "cell_type": "code",
   "execution_count": 1,
   "metadata": {},
   "outputs": [],
   "source": [
    "from bs4 import BeautifulSoup\n",
    "import requests\n",
    "import csv\n",
    "import re\n",
    "import os"
   ]
  },
  {
   "cell_type": "code",
   "execution_count": null,
   "metadata": {},
   "outputs": [],
   "source": [
    "# next page\n",
    "# 'https://eda.ru/recepty/vypechka-deserty?page='+number\n",
    "# 821 pages"
   ]
  },
  {
   "cell_type": "code",
   "execution_count": 4,
   "metadata": {},
   "outputs": [],
   "source": [
    "def getInfo_edaru(filename, url, startPage, endPage):\n",
    "    with open(filename, 'a') as file:\n",
    "        writer = csv.writer(file)\n",
    "        if os.stat(filename).st_size == 0:\n",
    "            writer.writerow(['img', 'title', 'link', 'stepbystep', 'cuisine',\n",
    "                            'portions', 'time', 'ingredients', 'favourite', 'likes', 'dislikes'])\n",
    "            \n",
    "        # walk the pages\n",
    "        for page in range(startPage, endPage+1):\n",
    "            pageLink = url+'?page='+str(page)\n",
    "            soup = BeautifulSoup(requests.get(pageLink).text, 'html.parser')\n",
    "\n",
    "            # extract the elements\n",
    "            for element in soup.find_all('div', class_=\"tile-list__horizontal-tile horizontal-tile js-portions-count-parent js-bookmark__obj\"):\n",
    "\n",
    "                # img\n",
    "                try:\n",
    "                    img = element.find('div', class_=\"lazy-load-container js-lazy-loading\")['data-src']\n",
    "                except TypeError:\n",
    "                    img = None\n",
    "\n",
    "                # titles\n",
    "                titles = []\n",
    "                for i in element.find_all('span'):\n",
    "                    if not i.has_attr('class'):\n",
    "                        titles.append(i.text.strip())\n",
    "                    else:\n",
    "                        break\n",
    "\n",
    "                # пошаговые рецепты, определенная кухня и название\n",
    "                rec = re.compile(r'рецепты')\n",
    "                kitchen = re.compile(r'кухня')\n",
    "                deserts = re.compile(r'десерты')\n",
    "\n",
    "                stepbystep = 0\n",
    "                cuisine = None\n",
    "                for title in titles:\n",
    "                    if rec.search(title):\n",
    "                        stepbystep = 1\n",
    "\n",
    "                    if kitchen.search(title):\n",
    "                        cuisine = title\n",
    "                title = titles[-1]\n",
    "\n",
    "                # number of portions\n",
    "                try:\n",
    "                    portions = element.find('span', class_='js-portions-count-print')\\\n",
    "                        .text.strip().split(' ')[0]\n",
    "                except AttributeError:\n",
    "                    portions = None\n",
    "\n",
    "                # preparation time\n",
    "                try:\n",
    "                    time = element.find('span', class_='prep-time').text.strip()\n",
    "                except AttributeError:\n",
    "                    time = None\n",
    "\n",
    "                # ingredients\n",
    "                ingredients = []\n",
    "                for i in element.find_all('p', class_='ingredients-list__content-item content-item js-cart-ingredients'):\n",
    "                    ingredients.append(i['data-ingredient-object'])\n",
    "\n",
    "\n",
    "                # link\n",
    "                link = 'https://eda.ru'+element.find('a', class_='ingredients-list__link')['href']\n",
    "\n",
    "                # favourited\n",
    "                try:\n",
    "                    favourite = element.find('div', class_='widget-list__totals')\\\n",
    "                        .find('span', class_='widget-list__favorite-count tooltip js-tooltip').text.strip()\n",
    "                except Exception:\n",
    "                    favourite = 0\n",
    "\n",
    "                # likes\n",
    "                try:\n",
    "                    likes = element.find('div', class_='widget-list__totals')\\\n",
    "                        .find('span', class_='widget-list__like-count').text.strip()\n",
    "                except Exception:\n",
    "                    likes = 0\n",
    "\n",
    "                # dislikes\n",
    "                try:\n",
    "                    dislikes = element.find('div', class_='widget-list__totals')\\\n",
    "                        .find('span', class_='widget-list__like-count widget-list__like-count_dislike').text.strip()\n",
    "                except Exception:\n",
    "                    dislikes = 0\n",
    "\n",
    "                writer.writerow([img, title, link, stepbystep, cuisine,\n",
    "                                portions, time, ingredients, favourite, likes, dislikes])\n",
    "    return \"finished\""
   ]
  },
  {
   "cell_type": "code",
   "execution_count": 6,
   "metadata": {},
   "outputs": [
    {
     "data": {
      "text/plain": [
       "'finished'"
      ]
     },
     "execution_count": 6,
     "metadata": {},
     "output_type": "execute_result"
    }
   ],
   "source": [
    "getInfo_edaru('edaru_breakfast.csv', 'https://eda.ru/recepty/zavtraki', 1, 130)"
   ]
  }
 ],
 "metadata": {
  "kernelspec": {
   "display_name": "Python 3",
   "language": "python",
   "name": "python3"
  },
  "language_info": {
   "codemirror_mode": {
    "name": "ipython",
    "version": 3
   },
   "file_extension": ".py",
   "mimetype": "text/x-python",
   "name": "python",
   "nbconvert_exporter": "python",
   "pygments_lexer": "ipython3",
   "version": "3.7.1"
  }
 },
 "nbformat": 4,
 "nbformat_minor": 2
}
