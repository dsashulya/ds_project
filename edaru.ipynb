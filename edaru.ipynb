{
 "cells": [
  {
   "cell_type": "code",
   "execution_count": 216,
   "metadata": {},
   "outputs": [],
   "source": [
    "import pandas as pd\n",
    "import numpy as np\n",
    "import math\n",
    "import json\n",
    "import re\n",
    "from sklearn.externals import joblib\n",
    "from collections import defaultdict\n",
    "from scipy import sparse\n",
    "from sklearn.cluster import KMeans, AgglomerativeClustering\n",
    "from sklearn.metrics import silhouette_score, accuracy_score\n",
    "from scipy.cluster.hierarchy import linkage, dendrogram\n",
    "import matplotlib.pyplot as plt\n",
    "import seaborn as sns\n",
    "%matplotlib inline\n",
    "np.set_printoptions(precision = 4, suppress = True)\n",
    "plt.style.use('seaborn-whitegrid')"
   ]
  },
  {
   "cell_type": "code",
   "execution_count": 69,
   "metadata": {},
   "outputs": [
    {
     "data": {
      "text/plain": [
       "(3640, 11)"
      ]
     },
     "execution_count": 69,
     "metadata": {},
     "output_type": "execute_result"
    }
   ],
   "source": [
    "main = pd.read_csv('../WebScraping/edaru_main.csv')\n",
    "breakfast = pd.read_csv('../WebScraping/edaru_breakfast.csv')\n",
    "eda = pd.concat([main, breakfast], ignore_index=True)\n",
    "eda.shape"
   ]
  },
  {
   "cell_type": "code",
   "execution_count": 70,
   "metadata": {},
   "outputs": [],
   "source": [
    "ingredients = {}\n",
    "for ings in eda.loc[:, 'ingredients'].values:\n",
    "    for i in eval(ings):\n",
    "        ingredients[eval(i)['id']] = eval(i)['name']"
   ]
  },
  {
   "cell_type": "code",
   "execution_count": 71,
   "metadata": {},
   "outputs": [
    {
     "data": {
      "text/plain": [
       "1672"
      ]
     },
     "execution_count": 71,
     "metadata": {},
     "output_type": "execute_result"
    }
   ],
   "source": [
    "len(ingredients)"
   ]
  },
  {
   "cell_type": "code",
   "execution_count": 72,
   "metadata": {},
   "outputs": [],
   "source": [
    "with open('ingredients_total.json', 'w') as f:\n",
    "    json.dump(ingredients, f)"
   ]
  },
  {
   "cell_type": "code",
   "execution_count": 73,
   "metadata": {},
   "outputs": [],
   "source": [
    "recipes_index = {}\n",
    "for i in range(eda.shape[0]):\n",
    "    recipes_index[i] = eda.iloc[i, 2]"
   ]
  },
  {
   "cell_type": "code",
   "execution_count": 74,
   "metadata": {},
   "outputs": [],
   "source": [
    "with open('recipes_index.json', 'w') as f:\n",
    "    json.dump(recipes_index, f)"
   ]
  },
  {
   "cell_type": "code",
   "execution_count": 75,
   "metadata": {},
   "outputs": [],
   "source": [
    "eda['us'] = np.where(eda.cuisine.str.contains('Американская', na=False), 1, 0) # na=False returns 0 when nan\n",
    "eda.us = eda.us.astype('category')"
   ]
  },
  {
   "cell_type": "code",
   "execution_count": 76,
   "metadata": {},
   "outputs": [],
   "source": [
    "eda['eu'] = np.where(eda.cuisine.str.contains('Европейская', na=False), 1, 0) # na=False returns 0 when nan\n",
    "eda.us = eda.us.astype('category')\n",
    "eda['ru'] = np.where(eda.cuisine.str.contains('Русская', na=False), 1, 0) # na=False returns 0 when nan\n",
    "eda.us = eda.us.astype('category')"
   ]
  },
  {
   "cell_type": "code",
   "execution_count": 77,
   "metadata": {},
   "outputs": [],
   "source": [
    "eda.stepbystep = eda.stepbystep.astype('category')"
   ]
  },
  {
   "cell_type": "code",
   "execution_count": 78,
   "metadata": {},
   "outputs": [
    {
     "name": "stdout",
     "output_type": "stream",
     "text": [
      "out of 3640 recipes, 899 (24.7%) are missing cuisine\n",
      "american: 164\n",
      "european: 703\n",
      "russian: 575\n",
      "step by step: 174\n",
      "329 missing time\n"
     ]
    }
   ],
   "source": [
    "print(f'out of {eda.shape[0]} recipes, {eda.cuisine.isna().sum()} \\\n",
    "({round(100*eda.cuisine.isna().sum()/eda.shape[0], 1)}%) are missing cuisine')\n",
    "print(f'american: {eda[eda.us == 1].shape[0]}\\n\\\n",
    "european: {eda[eda.eu == 1].shape[0]}\\n\\\n",
    "russian: {eda[eda.ru == 1].shape[0]}')\n",
    "print(f'step by step: {eda[eda.stepbystep == 1].shape[0]}')\n",
    "print(f'{eda.time.isna().sum()} missing time') # use average? median? "
   ]
  },
  {
   "cell_type": "code",
   "execution_count": 79,
   "metadata": {},
   "outputs": [],
   "source": [
    "eda.time = eda.time.fillna(0)"
   ]
  },
  {
   "cell_type": "code",
   "execution_count": 80,
   "metadata": {},
   "outputs": [
    {
     "name": "stdout",
     "output_type": "stream",
     "text": [
      "mean = 39.6\n",
      "median = 30.0\n"
     ]
    }
   ],
   "source": [
    "# substitute 0s for average\n",
    "minutes = []\n",
    "hour = re.compile('час')\n",
    "mins = re.compile('минут')\n",
    "for time in eda.loc[:, 'time'].values:\n",
    "    if time == 0:\n",
    "        minutes.append(0)\n",
    "        \n",
    "    else:\n",
    "        \n",
    "        # if end with hours\n",
    "        if hour.search(time.split(' ')[-1]):\n",
    "            t = int(time.split(' ')[-2])*60\n",
    "            minutes.append(t)\n",
    "            \n",
    "        \n",
    "        # if ends with minutes\n",
    "        elif mins.search(time.split(' ')[-1]):\n",
    "            t = int(time.split(' ')[-2])\n",
    "        \n",
    "            # check if contains hours\n",
    "            try:\n",
    "                t += int(time.split(' ')[-4])*60\n",
    "                minutes.append(t)\n",
    "            except IndexError:\n",
    "                minutes.append(t)\n",
    "median = np.median(minutes)\n",
    "print(f'mean = {round(np.mean(minutes),1)}\\nmedian = {np.median(minutes)}')\n",
    "\n",
    "eda['minutes'] = [minute if minute else median for minute in minutes]"
   ]
  },
  {
   "cell_type": "code",
   "execution_count": 157,
   "metadata": {},
   "outputs": [],
   "source": [
    "edacopy = eda.loc[:, ['portions', 'ingredients', 'minutes']]"
   ]
  },
  {
   "cell_type": "code",
   "execution_count": 82,
   "metadata": {},
   "outputs": [
    {
     "data": {
      "text/html": [
       "<div>\n",
       "<style scoped>\n",
       "    .dataframe tbody tr th:only-of-type {\n",
       "        vertical-align: middle;\n",
       "    }\n",
       "\n",
       "    .dataframe tbody tr th {\n",
       "        vertical-align: top;\n",
       "    }\n",
       "\n",
       "    .dataframe thead th {\n",
       "        text-align: right;\n",
       "    }\n",
       "</style>\n",
       "<table border=\"1\" class=\"dataframe\">\n",
       "  <thead>\n",
       "    <tr style=\"text-align: right;\">\n",
       "      <th></th>\n",
       "      <th>portions</th>\n",
       "      <th>ingredients</th>\n",
       "      <th>minutes</th>\n",
       "    </tr>\n",
       "  </thead>\n",
       "  <tbody>\n",
       "    <tr>\n",
       "      <th>0</th>\n",
       "      <td>4</td>\n",
       "      <td>['{\"id\": 13639, \"name\": \"Куриная грудка\", \"amo...</td>\n",
       "      <td>45.0</td>\n",
       "    </tr>\n",
       "    <tr>\n",
       "      <th>1</th>\n",
       "      <td>4</td>\n",
       "      <td>['{\"id\": 13544, \"name\": \"Куриное филе\", \"amoun...</td>\n",
       "      <td>30.0</td>\n",
       "    </tr>\n",
       "    <tr>\n",
       "      <th>2</th>\n",
       "      <td>4</td>\n",
       "      <td>['{\"id\": 13469, \"name\": \"Говядина\", \"amount\": ...</td>\n",
       "      <td>30.0</td>\n",
       "    </tr>\n",
       "    <tr>\n",
       "      <th>3</th>\n",
       "      <td>2</td>\n",
       "      <td>['{\"id\": 13484, \"name\": \"Макароны\", \"amount\": ...</td>\n",
       "      <td>20.0</td>\n",
       "    </tr>\n",
       "    <tr>\n",
       "      <th>4</th>\n",
       "      <td>5</td>\n",
       "      <td>['{\"id\": 13509, \"name\": \"Шампиньоны\", \"amount\"...</td>\n",
       "      <td>35.0</td>\n",
       "    </tr>\n",
       "  </tbody>\n",
       "</table>\n",
       "</div>"
      ],
      "text/plain": [
       "   portions                                        ingredients  minutes\n",
       "0         4  ['{\"id\": 13639, \"name\": \"Куриная грудка\", \"amo...     45.0\n",
       "1         4  ['{\"id\": 13544, \"name\": \"Куриное филе\", \"amoun...     30.0\n",
       "2         4  ['{\"id\": 13469, \"name\": \"Говядина\", \"amount\": ...     30.0\n",
       "3         2  ['{\"id\": 13484, \"name\": \"Макароны\", \"amount\": ...     20.0\n",
       "4         5  ['{\"id\": 13509, \"name\": \"Шампиньоны\", \"amount\"...     35.0"
      ]
     },
     "execution_count": 82,
     "metadata": {},
     "output_type": "execute_result"
    }
   ],
   "source": [
    "edacopy.head()"
   ]
  },
  {
   "cell_type": "code",
   "execution_count": 83,
   "metadata": {},
   "outputs": [
    {
     "data": {
      "text/plain": [
       "{'',\n",
       " 'банка',\n",
       " 'банки',\n",
       " 'веточек',\n",
       " 'веточка',\n",
       " 'веточки',\n",
       " 'вкусу',\n",
       " 'г',\n",
       " 'головка',\n",
       " 'головки',\n",
       " 'головок',\n",
       " 'зубчик',\n",
       " 'зубчика',\n",
       " 'зубчиков',\n",
       " 'кг',\n",
       " 'кончике ножа',\n",
       " 'куска',\n",
       " 'кусков',\n",
       " 'кусок',\n",
       " 'л',\n",
       " 'мл',\n",
       " 'пучка',\n",
       " 'пучков',\n",
       " 'пучок',\n",
       " 'стакан',\n",
       " 'стакана',\n",
       " 'стаканов',\n",
       " 'стебель',\n",
       " 'стеблей',\n",
       " 'стебля',\n",
       " 'столовая ложка',\n",
       " 'столовой ложки',\n",
       " 'столовые ложки',\n",
       " 'столовых ложек',\n",
       " 'чайная ложка',\n",
       " 'чайной ложки',\n",
       " 'чайные ложки',\n",
       " 'чайных ложек',\n",
       " 'штук',\n",
       " 'штука',\n",
       " 'штуки'}"
      ]
     },
     "execution_count": 83,
     "metadata": {},
     "output_type": "execute_result"
    }
   ],
   "source": [
    "s = set()\n",
    "for ings in edacopy.loc[:, 'ingredients'].values:\n",
    "    for i in eval(ings):\n",
    "        s.add(' '.join(eval(i)['amount'].split(' ')[1:]))\n",
    "s"
   ]
  },
  {
   "cell_type": "code",
   "execution_count": 128,
   "metadata": {},
   "outputs": [],
   "source": [
    "# create a sparse df w/ ingredients\n",
    "for i in sorted(list(ingredients.keys())):\n",
    "    edacopy[str(i)] = 0"
   ]
  },
  {
   "cell_type": "code",
   "execution_count": 129,
   "metadata": {},
   "outputs": [
    {
     "data": {
      "text/html": [
       "<div>\n",
       "<style scoped>\n",
       "    .dataframe tbody tr th:only-of-type {\n",
       "        vertical-align: middle;\n",
       "    }\n",
       "\n",
       "    .dataframe tbody tr th {\n",
       "        vertical-align: top;\n",
       "    }\n",
       "\n",
       "    .dataframe thead th {\n",
       "        text-align: right;\n",
       "    }\n",
       "</style>\n",
       "<table border=\"1\" class=\"dataframe\">\n",
       "  <thead>\n",
       "    <tr style=\"text-align: right;\">\n",
       "      <th></th>\n",
       "      <th>portions</th>\n",
       "      <th>ingredients</th>\n",
       "      <th>minutes</th>\n",
       "      <th>13406</th>\n",
       "      <th>13407</th>\n",
       "      <th>13408</th>\n",
       "      <th>13409</th>\n",
       "      <th>13410</th>\n",
       "      <th>13411</th>\n",
       "      <th>13412</th>\n",
       "      <th>...</th>\n",
       "      <th>43787</th>\n",
       "      <th>43915</th>\n",
       "      <th>43984</th>\n",
       "      <th>45004</th>\n",
       "      <th>45280</th>\n",
       "      <th>56688</th>\n",
       "      <th>56926</th>\n",
       "      <th>57371</th>\n",
       "      <th>57500</th>\n",
       "      <th>58517</th>\n",
       "    </tr>\n",
       "  </thead>\n",
       "  <tbody>\n",
       "    <tr>\n",
       "      <th>0</th>\n",
       "      <td>4</td>\n",
       "      <td>['{\"id\": 13639, \"name\": \"Куриная грудка\", \"amo...</td>\n",
       "      <td>45.0</td>\n",
       "      <td>0</td>\n",
       "      <td>0</td>\n",
       "      <td>0</td>\n",
       "      <td>0</td>\n",
       "      <td>0</td>\n",
       "      <td>0</td>\n",
       "      <td>0</td>\n",
       "      <td>...</td>\n",
       "      <td>0</td>\n",
       "      <td>0</td>\n",
       "      <td>0</td>\n",
       "      <td>0</td>\n",
       "      <td>0</td>\n",
       "      <td>0</td>\n",
       "      <td>0</td>\n",
       "      <td>0</td>\n",
       "      <td>0</td>\n",
       "      <td>0</td>\n",
       "    </tr>\n",
       "    <tr>\n",
       "      <th>1</th>\n",
       "      <td>4</td>\n",
       "      <td>['{\"id\": 13544, \"name\": \"Куриное филе\", \"amoun...</td>\n",
       "      <td>30.0</td>\n",
       "      <td>0</td>\n",
       "      <td>0</td>\n",
       "      <td>0</td>\n",
       "      <td>0</td>\n",
       "      <td>0</td>\n",
       "      <td>0</td>\n",
       "      <td>0</td>\n",
       "      <td>...</td>\n",
       "      <td>0</td>\n",
       "      <td>0</td>\n",
       "      <td>0</td>\n",
       "      <td>0</td>\n",
       "      <td>0</td>\n",
       "      <td>0</td>\n",
       "      <td>0</td>\n",
       "      <td>0</td>\n",
       "      <td>0</td>\n",
       "      <td>0</td>\n",
       "    </tr>\n",
       "    <tr>\n",
       "      <th>2</th>\n",
       "      <td>4</td>\n",
       "      <td>['{\"id\": 13469, \"name\": \"Говядина\", \"amount\": ...</td>\n",
       "      <td>30.0</td>\n",
       "      <td>0</td>\n",
       "      <td>0</td>\n",
       "      <td>0</td>\n",
       "      <td>0</td>\n",
       "      <td>0</td>\n",
       "      <td>0</td>\n",
       "      <td>0</td>\n",
       "      <td>...</td>\n",
       "      <td>0</td>\n",
       "      <td>0</td>\n",
       "      <td>0</td>\n",
       "      <td>0</td>\n",
       "      <td>0</td>\n",
       "      <td>0</td>\n",
       "      <td>0</td>\n",
       "      <td>0</td>\n",
       "      <td>0</td>\n",
       "      <td>0</td>\n",
       "    </tr>\n",
       "    <tr>\n",
       "      <th>3</th>\n",
       "      <td>2</td>\n",
       "      <td>['{\"id\": 13484, \"name\": \"Макароны\", \"amount\": ...</td>\n",
       "      <td>20.0</td>\n",
       "      <td>0</td>\n",
       "      <td>0</td>\n",
       "      <td>0</td>\n",
       "      <td>0</td>\n",
       "      <td>0</td>\n",
       "      <td>0</td>\n",
       "      <td>0</td>\n",
       "      <td>...</td>\n",
       "      <td>0</td>\n",
       "      <td>0</td>\n",
       "      <td>0</td>\n",
       "      <td>0</td>\n",
       "      <td>0</td>\n",
       "      <td>0</td>\n",
       "      <td>0</td>\n",
       "      <td>0</td>\n",
       "      <td>0</td>\n",
       "      <td>0</td>\n",
       "    </tr>\n",
       "    <tr>\n",
       "      <th>4</th>\n",
       "      <td>5</td>\n",
       "      <td>['{\"id\": 13509, \"name\": \"Шампиньоны\", \"amount\"...</td>\n",
       "      <td>35.0</td>\n",
       "      <td>0</td>\n",
       "      <td>0</td>\n",
       "      <td>0</td>\n",
       "      <td>0</td>\n",
       "      <td>0</td>\n",
       "      <td>0</td>\n",
       "      <td>0</td>\n",
       "      <td>...</td>\n",
       "      <td>0</td>\n",
       "      <td>0</td>\n",
       "      <td>0</td>\n",
       "      <td>0</td>\n",
       "      <td>0</td>\n",
       "      <td>0</td>\n",
       "      <td>0</td>\n",
       "      <td>0</td>\n",
       "      <td>0</td>\n",
       "      <td>0</td>\n",
       "    </tr>\n",
       "  </tbody>\n",
       "</table>\n",
       "<p>5 rows × 1675 columns</p>\n",
       "</div>"
      ],
      "text/plain": [
       "   portions                                        ingredients  minutes  \\\n",
       "0         4  ['{\"id\": 13639, \"name\": \"Куриная грудка\", \"amo...     45.0   \n",
       "1         4  ['{\"id\": 13544, \"name\": \"Куриное филе\", \"amoun...     30.0   \n",
       "2         4  ['{\"id\": 13469, \"name\": \"Говядина\", \"amount\": ...     30.0   \n",
       "3         2  ['{\"id\": 13484, \"name\": \"Макароны\", \"amount\": ...     20.0   \n",
       "4         5  ['{\"id\": 13509, \"name\": \"Шампиньоны\", \"amount\"...     35.0   \n",
       "\n",
       "   13406  13407  13408  13409  13410  13411  13412  ...    43787  43915  \\\n",
       "0      0      0      0      0      0      0      0  ...        0      0   \n",
       "1      0      0      0      0      0      0      0  ...        0      0   \n",
       "2      0      0      0      0      0      0      0  ...        0      0   \n",
       "3      0      0      0      0      0      0      0  ...        0      0   \n",
       "4      0      0      0      0      0      0      0  ...        0      0   \n",
       "\n",
       "   43984  45004  45280  56688  56926  57371  57500  58517  \n",
       "0      0      0      0      0      0      0      0      0  \n",
       "1      0      0      0      0      0      0      0      0  \n",
       "2      0      0      0      0      0      0      0      0  \n",
       "3      0      0      0      0      0      0      0      0  \n",
       "4      0      0      0      0      0      0      0      0  \n",
       "\n",
       "[5 rows x 1675 columns]"
      ]
     },
     "execution_count": 129,
     "metadata": {},
     "output_type": "execute_result"
    }
   ],
   "source": [
    "edacopy.head() "
   ]
  },
  {
   "cell_type": "markdown",
   "metadata": {},
   "source": [
    "## Веса продуктов\n",
    "\n",
    "яйцо = 50г\n",
    "\n",
    "яблоко = 175г\n",
    "\n",
    "банан = 200г\n",
    "\n",
    "стакан сахара/муки = 160г\n",
    "\n",
    "столовая ложка = 20г\n",
    "\n",
    "чайная ложка = 5г\n",
    "\n",
    "банка сметаны = 200г\n",
    "\n",
    "кусок = 200г\n",
    "\n",
    "кусок шоколада = 50г\n",
    "\n",
    "головка лука = 85г\n",
    "\n",
    "головка чеснока = 45г\n",
    "\n",
    "зубчик = 10г\n",
    "\n",
    "стебель = 60г\n",
    "\n",
    "по вкусу = 0г\n",
    "\n",
    "на кончике ножа = 0г\n",
    "\n",
    "щепотка = 0г\n",
    "\n",
    "мл = г\n",
    "\n",
    "л = 1000г"
   ]
  },
  {
   "cell_type": "code",
   "execution_count": 116,
   "metadata": {},
   "outputs": [
    {
     "data": {
      "text/plain": [
       "['{\"id\": 13639, \"name\": \"Куриная грудка\", \"amount\": \"4 штуки\"}',\n",
       " '{\"id\": 15371, \"name\": \"Лук\", \"amount\": \"2 штуки\"}',\n",
       " '{\"id\": 13467, \"name\": \"Сладкий перец\", \"amount\": \"3 штуки\"}',\n",
       " '{\"id\": 13430, \"name\": \"Чеснок\", \"amount\": \"3 зубчика\"}',\n",
       " '{\"id\": 13439, \"name\": \"Помидоры\", \"amount\": \"4 штуки\"}',\n",
       " '{\"id\": 15509, \"name\": \"Овощной бульонный кубик \", \"amount\": \"1 штука\"}',\n",
       " '{\"id\": 13426, \"name\": \"Сыр\", \"amount\": \"100 г\"}',\n",
       " '{\"id\": 15594, \"name\": \"Смесь итальянских трав\", \"amount\": \"1 столовая ложка\"}',\n",
       " '{\"id\": 13411, \"name\": \"Вода\", \"amount\": \"½ стакана\"}',\n",
       " '{\"id\": 13474, \"name\": \"Сливки\", \"amount\": \"½ стакана\"}',\n",
       " '{\"id\": 13513, \"name\": \"Оливковое масло\", \"amount\": \"2 столовые ложки\"}',\n",
       " '{\"id\": 13615, \"name\": \"Мускатный орех\", \"amount\": \"щепотка\"}',\n",
       " '{\"id\": 13421, \"name\": \"Соль\", \"amount\": \"по вкусу\"}',\n",
       " '{\"id\": 13412, \"name\": \"Сливочное масло\", \"amount\": \"1 столовая ложка\"}',\n",
       " '{\"id\": 13420, \"name\": \"Перец черный молотый\", \"amount\": \"по вкусу\"}']"
      ]
     },
     "execution_count": 116,
     "metadata": {},
     "output_type": "execute_result"
    }
   ],
   "source": [
    "eval(edacopy.loc[0, 'ingredients'])"
   ]
  },
  {
   "cell_type": "code",
   "execution_count": 159,
   "metadata": {},
   "outputs": [
    {
     "name": "stdout",
     "output_type": "stream",
     "text": [
      "finished\n"
     ]
    }
   ],
   "source": [
    "# for each row extract ingredients\n",
    "for n in range(edacopy.shape[0]):\n",
    "    minutes = edacopy.loc[n, 'minutes']\n",
    "    edacopy.loc[n, 'minutes'] = np.log(minutes)\n",
    "    for i in eval(edacopy.loc[n, 'ingredients']):\n",
    "\n",
    "        # if grams or ml\n",
    "        if eval(i)['amount'].split(' ')[-1] == 'г' or eval(i)['amount'].split(' ')[-1] == 'мл':\n",
    "            try:\n",
    "                value = int(eval(i)['amount'].split(' ')[-2])\n",
    "            # has a comma\n",
    "            except ValueError:\n",
    "                try:\n",
    "                    value = int(''.join(eval(i)['amount'].split(' ')[-2].split(',')))\n",
    "                # a stupid fraction of a gram\n",
    "                except ValueError:\n",
    "                    value = 0\n",
    "\n",
    "        # if kg or l\n",
    "        elif eval(i)['amount'].split(' ')[-1] == 'кг' or eval(i)['amount'].split(' ')[-1] == 'л':\n",
    "            try:\n",
    "                value = int(eval(i)['amount'].split(' ')[-2])*1000\n",
    "            # has a comma\n",
    "            except ValueError:\n",
    "                try:\n",
    "                    value = float('.'.join(eval(i)['amount'].split(' ')[-2].split(',')))*1000\n",
    "                # a stupid fraction of a gram\n",
    "                except ValueError:\n",
    "                    value = 500\n",
    "        # по вкусу\n",
    "        elif re.compile('вкус').search(eval(i)['amount']) or re.compile('нож').search(eval(i)['amount'])\\\n",
    "                or re.compile('щепотка').search(eval(i)['amount']):\n",
    "            value = 0\n",
    "\n",
    "        # if an egg\n",
    "        elif re.compile('йцо').search(eval(i)['name']) or re.compile('желт').search(eval(i)['name'])\\\n",
    "                or re.compile('белок').search(eval(i)['name']):\n",
    "            try:\n",
    "                value =  int(eval(i)['amount'][0])*50\n",
    "            except ValueError:\n",
    "                value = 25\n",
    "\n",
    "        # if a banana\n",
    "        elif re.compile('анан').search(eval(i)['name']):\n",
    "            try:\n",
    "                value = int(eval(i)['amount'][0])*200\n",
    "            # a stupid fraction \n",
    "            except ValueError:\n",
    "                value = 100\n",
    "\n",
    "        # if an apple:\n",
    "        elif re.compile('блоко').search(eval(i)['name']):\n",
    "            try:\n",
    "                value = int(eval(i)['amount'][0])*175\n",
    "            # a stupid fraction\n",
    "            except ValueError:\n",
    "                value =  100\n",
    "\n",
    "        # if a glass\n",
    "        elif re.compile('стакан').search(eval(i)['amount']):\n",
    "            try:\n",
    "                value = int(eval(i)['amount'][0])*160\n",
    "            # a stupid fraction\n",
    "            except ValueError:\n",
    "                value = 100\n",
    "\n",
    "        # table spoon\n",
    "        elif re.compile('стол').search(eval(i)['amount']):\n",
    "            try:\n",
    "                value = int(eval(i)['amount'][0])*20\n",
    "            # a stupid fraction\n",
    "            except ValueError:\n",
    "                value = 10\n",
    "\n",
    "        # tea spoon\n",
    "        elif re.compile('чайн').search(eval(i)['amount']):\n",
    "            try:\n",
    "                 value = int(eval(i)['amount'][0])*5\n",
    "            # a stupid fraction\n",
    "            except ValueError:\n",
    "                value = 3\n",
    "\n",
    "        # can\n",
    "        elif re.compile('банк').search(eval(i)['amount']):\n",
    "            try:\n",
    "                value = int(eval(i)['amount'][0])*200\n",
    "            # has a comma\n",
    "            except ValueError:\n",
    "                try:\n",
    "                    value = float('.'.join(eval(i)['amount'].split(' ')[0].split(',')))*200\n",
    "                # a stupid fraction\n",
    "                except ValueError:\n",
    "                     value = 100\n",
    "\n",
    "        # chocolate\n",
    "        elif re.compile('околад').search(eval(i)['name']):\n",
    "            value = int(eval(i)['amount'][0])*20\n",
    "\n",
    "        # остальные куски\n",
    "        elif re.compile('кус').search(eval(i)['amount']):\n",
    "            try:\n",
    "                value = int(eval(i)['amount'][0])*200 \n",
    "            except ValueError:\n",
    "                value = 100\n",
    "\n",
    "        # зубчики\n",
    "        elif re.compile('зубч').search(eval(i)['amount']):\n",
    "            try:\n",
    "                value = int(eval(i)['amount'][0])*10\n",
    "            except ValueError:\n",
    "                value = 5\n",
    "\n",
    "        # головка лука\n",
    "        elif re.compile('головк').search(eval(i)['amount']) and re.compile('ук').search(eval(i)['name']):\n",
    "            try:\n",
    "                value = int(eval(i)['amount'][0])*85 \n",
    "            except ValueError:\n",
    "                value = 40\n",
    "\n",
    "        # головка чеснока\n",
    "        elif re.compile('головк').search(eval(i)['amount']) and re.compile('еснок').search(eval(i)['name']):\n",
    "            try:\n",
    "                value = int(eval(i)['amount'][0])*45\n",
    "            except ValueError:\n",
    "                value = 20\n",
    "\n",
    "         # стебли веточки\n",
    "        elif re.compile('стеб').search(eval(i)['amount']) or re.compile('веточ').search(eval(i)['amount']):\n",
    "            try:\n",
    "                value = int(eval(i)['amount'][0])*20\n",
    "            except ValueError:\n",
    "                value = 10\n",
    "\n",
    "        # ваниль корица печенье фундук пучки головки\n",
    "        elif re.compile('аниль').search(eval(i)['name']) or re.compile('ориц').search(eval(i)['name']) or\\\n",
    "            re.compile('ечень').search(eval(i)['name']) or re.compile('ундук').search(eval(i)['name']) or\\\n",
    "            re.compile('пуч').search(eval(i)['amount']) or re.compile('голов').search(eval(i)['amount']):\n",
    "            try:\n",
    "                value = int(eval(i)['amount'][0])*20\n",
    "            except ValueError:\n",
    "                value = 10\n",
    "\n",
    "        # remainig items\n",
    "        elif re.compile('штук').search(eval(i)['amount']):\n",
    "            try:\n",
    "                value = int(eval(i)['amount'].split(' ')[0])*150\n",
    "            except ValueError:\n",
    "                try:\n",
    "                    value = int(''.join(eval(i)['amount'].split(' ')[0].split(',')))*150\n",
    "                # a stupid fraction of a gram\n",
    "                except ValueError:\n",
    "                    value = 100\n",
    "\n",
    "        else:\n",
    "            print(i)\n",
    "\n",
    "        portions = edacopy.loc[n, 'portions']\n",
    "        value /= portions\n",
    "        \n",
    "        value = np.log(value) if value else 0\n",
    "        edacopy.loc[n, str(eval(i)['id'])] = value\n",
    "        \n",
    "print('finished')"
   ]
  },
  {
   "cell_type": "code",
   "execution_count": 89,
   "metadata": {},
   "outputs": [],
   "source": [
    "# save ingredients indices for future desciphering\n",
    "ings_index = {}\n",
    "num = 0\n",
    "for i in sorted(list(ingredients.keys())):\n",
    "    ings_index[i] = num\n",
    "    num += 1"
   ]
  },
  {
   "cell_type": "code",
   "execution_count": 90,
   "metadata": {},
   "outputs": [],
   "source": [
    "with open('ings_index_total.json', 'w') as f:\n",
    "    json.dump(ings_index, f)"
   ]
  },
  {
   "cell_type": "code",
   "execution_count": 160,
   "metadata": {},
   "outputs": [],
   "source": [
    "edacopy.drop(columns=['ingredients', 'portions'], inplace=True)"
   ]
  },
  {
   "cell_type": "code",
   "execution_count": 161,
   "metadata": {},
   "outputs": [],
   "source": [
    "edacopy.fillna(value=0, inplace=True)"
   ]
  },
  {
   "cell_type": "code",
   "execution_count": 162,
   "metadata": {},
   "outputs": [
    {
     "data": {
      "text/html": [
       "<div>\n",
       "<style scoped>\n",
       "    .dataframe tbody tr th:only-of-type {\n",
       "        vertical-align: middle;\n",
       "    }\n",
       "\n",
       "    .dataframe tbody tr th {\n",
       "        vertical-align: top;\n",
       "    }\n",
       "\n",
       "    .dataframe thead th {\n",
       "        text-align: right;\n",
       "    }\n",
       "</style>\n",
       "<table border=\"1\" class=\"dataframe\">\n",
       "  <thead>\n",
       "    <tr style=\"text-align: right;\">\n",
       "      <th></th>\n",
       "      <th>minutes</th>\n",
       "      <th>13639</th>\n",
       "      <th>15371</th>\n",
       "      <th>13467</th>\n",
       "      <th>13430</th>\n",
       "      <th>13439</th>\n",
       "      <th>15509</th>\n",
       "      <th>13426</th>\n",
       "      <th>15594</th>\n",
       "      <th>13411</th>\n",
       "      <th>...</th>\n",
       "      <th>16113</th>\n",
       "      <th>15322</th>\n",
       "      <th>16344</th>\n",
       "      <th>15168</th>\n",
       "      <th>14484</th>\n",
       "      <th>24019</th>\n",
       "      <th>24093</th>\n",
       "      <th>14265</th>\n",
       "      <th>28466</th>\n",
       "      <th>15317</th>\n",
       "    </tr>\n",
       "  </thead>\n",
       "  <tbody>\n",
       "    <tr>\n",
       "      <th>0</th>\n",
       "      <td>3.806662</td>\n",
       "      <td>5.010635</td>\n",
       "      <td>4.317488</td>\n",
       "      <td>4.722953</td>\n",
       "      <td>2.014903</td>\n",
       "      <td>5.010635</td>\n",
       "      <td>3.624341</td>\n",
       "      <td>3.218876</td>\n",
       "      <td>1.609438</td>\n",
       "      <td>3.218876</td>\n",
       "      <td>...</td>\n",
       "      <td>0.0</td>\n",
       "      <td>0.0</td>\n",
       "      <td>0.0</td>\n",
       "      <td>0.0</td>\n",
       "      <td>0.0</td>\n",
       "      <td>0.0</td>\n",
       "      <td>0.0</td>\n",
       "      <td>0.0</td>\n",
       "      <td>0.0</td>\n",
       "      <td>0.0</td>\n",
       "    </tr>\n",
       "    <tr>\n",
       "      <th>1</th>\n",
       "      <td>3.401197</td>\n",
       "      <td>0.000000</td>\n",
       "      <td>0.000000</td>\n",
       "      <td>3.624341</td>\n",
       "      <td>0.000000</td>\n",
       "      <td>4.317488</td>\n",
       "      <td>0.000000</td>\n",
       "      <td>0.000000</td>\n",
       "      <td>0.000000</td>\n",
       "      <td>3.218876</td>\n",
       "      <td>...</td>\n",
       "      <td>0.0</td>\n",
       "      <td>0.0</td>\n",
       "      <td>0.0</td>\n",
       "      <td>0.0</td>\n",
       "      <td>0.0</td>\n",
       "      <td>0.0</td>\n",
       "      <td>0.0</td>\n",
       "      <td>0.0</td>\n",
       "      <td>0.0</td>\n",
       "      <td>0.0</td>\n",
       "    </tr>\n",
       "    <tr>\n",
       "      <th>2</th>\n",
       "      <td>3.401197</td>\n",
       "      <td>0.000000</td>\n",
       "      <td>0.000000</td>\n",
       "      <td>0.000000</td>\n",
       "      <td>2.014903</td>\n",
       "      <td>0.000000</td>\n",
       "      <td>0.000000</td>\n",
       "      <td>0.000000</td>\n",
       "      <td>0.000000</td>\n",
       "      <td>0.000000</td>\n",
       "      <td>...</td>\n",
       "      <td>0.0</td>\n",
       "      <td>0.0</td>\n",
       "      <td>0.0</td>\n",
       "      <td>0.0</td>\n",
       "      <td>0.0</td>\n",
       "      <td>0.0</td>\n",
       "      <td>0.0</td>\n",
       "      <td>0.0</td>\n",
       "      <td>0.0</td>\n",
       "      <td>0.0</td>\n",
       "    </tr>\n",
       "    <tr>\n",
       "      <th>3</th>\n",
       "      <td>2.995732</td>\n",
       "      <td>0.000000</td>\n",
       "      <td>0.000000</td>\n",
       "      <td>0.000000</td>\n",
       "      <td>1.609438</td>\n",
       "      <td>4.317488</td>\n",
       "      <td>0.000000</td>\n",
       "      <td>3.912023</td>\n",
       "      <td>0.000000</td>\n",
       "      <td>0.000000</td>\n",
       "      <td>...</td>\n",
       "      <td>0.0</td>\n",
       "      <td>0.0</td>\n",
       "      <td>0.0</td>\n",
       "      <td>0.0</td>\n",
       "      <td>0.0</td>\n",
       "      <td>0.0</td>\n",
       "      <td>0.0</td>\n",
       "      <td>0.0</td>\n",
       "      <td>0.0</td>\n",
       "      <td>0.0</td>\n",
       "    </tr>\n",
       "    <tr>\n",
       "      <th>4</th>\n",
       "      <td>3.555348</td>\n",
       "      <td>0.000000</td>\n",
       "      <td>0.000000</td>\n",
       "      <td>2.995732</td>\n",
       "      <td>0.000000</td>\n",
       "      <td>2.995732</td>\n",
       "      <td>0.000000</td>\n",
       "      <td>0.000000</td>\n",
       "      <td>0.000000</td>\n",
       "      <td>0.000000</td>\n",
       "      <td>...</td>\n",
       "      <td>0.0</td>\n",
       "      <td>0.0</td>\n",
       "      <td>0.0</td>\n",
       "      <td>0.0</td>\n",
       "      <td>0.0</td>\n",
       "      <td>0.0</td>\n",
       "      <td>0.0</td>\n",
       "      <td>0.0</td>\n",
       "      <td>0.0</td>\n",
       "      <td>0.0</td>\n",
       "    </tr>\n",
       "  </tbody>\n",
       "</table>\n",
       "<p>5 rows × 1673 columns</p>\n",
       "</div>"
      ],
      "text/plain": [
       "    minutes     13639     15371     13467     13430     13439     15509  \\\n",
       "0  3.806662  5.010635  4.317488  4.722953  2.014903  5.010635  3.624341   \n",
       "1  3.401197  0.000000  0.000000  3.624341  0.000000  4.317488  0.000000   \n",
       "2  3.401197  0.000000  0.000000  0.000000  2.014903  0.000000  0.000000   \n",
       "3  2.995732  0.000000  0.000000  0.000000  1.609438  4.317488  0.000000   \n",
       "4  3.555348  0.000000  0.000000  2.995732  0.000000  2.995732  0.000000   \n",
       "\n",
       "      13426     15594     13411  ...    16113  15322  16344  15168  14484  \\\n",
       "0  3.218876  1.609438  3.218876  ...      0.0    0.0    0.0    0.0    0.0   \n",
       "1  0.000000  0.000000  3.218876  ...      0.0    0.0    0.0    0.0    0.0   \n",
       "2  0.000000  0.000000  0.000000  ...      0.0    0.0    0.0    0.0    0.0   \n",
       "3  3.912023  0.000000  0.000000  ...      0.0    0.0    0.0    0.0    0.0   \n",
       "4  0.000000  0.000000  0.000000  ...      0.0    0.0    0.0    0.0    0.0   \n",
       "\n",
       "   24019  24093  14265  28466  15317  \n",
       "0    0.0    0.0    0.0    0.0    0.0  \n",
       "1    0.0    0.0    0.0    0.0    0.0  \n",
       "2    0.0    0.0    0.0    0.0    0.0  \n",
       "3    0.0    0.0    0.0    0.0    0.0  \n",
       "4    0.0    0.0    0.0    0.0    0.0  \n",
       "\n",
       "[5 rows x 1673 columns]"
      ]
     },
     "execution_count": 162,
     "metadata": {},
     "output_type": "execute_result"
    }
   ],
   "source": [
    "edacopy.head()"
   ]
  },
  {
   "cell_type": "code",
   "execution_count": 163,
   "metadata": {},
   "outputs": [],
   "source": [
    "# convert to condenced sparse row\n",
    "edamtx = sparse.csr_matrix(edacopy)"
   ]
  },
  {
   "cell_type": "code",
   "execution_count": 145,
   "metadata": {},
   "outputs": [
    {
     "name": "stdout",
     "output_type": "stream",
     "text": [
      "For n_clusters = 2, silhouette score is 0.036\n",
      "For n_clusters = 3, silhouette score is 0.045\n",
      "For n_clusters = 4, silhouette score is 0.024\n",
      "For n_clusters = 5, silhouette score is 0.029\n",
      "For n_clusters = 6, silhouette score is 0.021\n",
      "For n_clusters = 7, silhouette score is 0.024\n",
      "For n_clusters = 8, silhouette score is 0.029\n",
      "For n_clusters = 9, silhouette score is 0.031\n",
      "For n_clusters = 10, silhouette score is 0.029\n"
     ]
    }
   ],
   "source": [
    "scores = []\n",
    "for n_clusters in range(2, 11):\n",
    "    clusterer = KMeans(n_clusters=n_clusters)\n",
    "    preds = clusterer.fit_predict(edamtx)\n",
    "    centers = clusterer.cluster_centers_\n",
    "\n",
    "    score = silhouette_score(edamtx, preds, metric='euclidean')\n",
    "    scores.append(score)\n",
    "    print (f\"For n_clusters = {n_clusters}, silhouette score is {round(score, 3)}\")"
   ]
  },
  {
   "cell_type": "code",
   "execution_count": 146,
   "metadata": {},
   "outputs": [
    {
     "name": "stdout",
     "output_type": "stream",
     "text": [
      "For n_clusters = 11, silhouette score is 0.034\n",
      "For n_clusters = 12, silhouette score is 0.036\n",
      "For n_clusters = 13, silhouette score is 0.035\n",
      "For n_clusters = 14, silhouette score is 0.032\n",
      "For n_clusters = 15, silhouette score is 0.038\n",
      "For n_clusters = 16, silhouette score is 0.035\n",
      "For n_clusters = 17, silhouette score is 0.033\n",
      "For n_clusters = 18, silhouette score is 0.039\n",
      "For n_clusters = 19, silhouette score is 0.029\n",
      "For n_clusters = 20, silhouette score is 0.033\n"
     ]
    }
   ],
   "source": [
    "for n_clusters in range(11, 21):\n",
    "    clusterer = KMeans(n_clusters=n_clusters)\n",
    "    preds = clusterer.fit_predict(edamtx)\n",
    "    centers = clusterer.cluster_centers_\n",
    "\n",
    "    score = silhouette_score(edamtx, preds, metric='euclidean')\n",
    "    scores.append(score)\n",
    "    print (f\"For n_clusters = {n_clusters}, silhouette score is {round(score, 3)}\")"
   ]
  },
  {
   "cell_type": "code",
   "execution_count": 101,
   "metadata": {},
   "outputs": [
    {
     "name": "stdout",
     "output_type": "stream",
     "text": [
      "For n_clusters = 21, silhouette score is 0.138\n",
      "For n_clusters = 22, silhouette score is 0.136\n",
      "For n_clusters = 23, silhouette score is 0.105\n",
      "For n_clusters = 24, silhouette score is 0.051\n",
      "For n_clusters = 25, silhouette score is 0.151\n",
      "For n_clusters = 26, silhouette score is 0.149\n",
      "For n_clusters = 27, silhouette score is -0.021\n",
      "For n_clusters = 28, silhouette score is -0.003\n",
      "For n_clusters = 29, silhouette score is 0.109\n",
      "For n_clusters = 30, silhouette score is 0.065\n"
     ]
    }
   ],
   "source": [
    "for n_clusters in range(21, 31):\n",
    "    clusterer = KMeans(n_clusters=n_clusters)\n",
    "    preds = clusterer.fit_predict(edamtx)\n",
    "    centers = clusterer.cluster_centers_\n",
    "\n",
    "    score = silhouette_score(edamtx, preds, metric='euclidean')\n",
    "    scores.append(score)\n",
    "    print (f\"For n_clusters = {n_clusters}, silhouette score is {round(score, 3)}\")"
   ]
  },
  {
   "cell_type": "code",
   "execution_count": 96,
   "metadata": {},
   "outputs": [
    {
     "name": "stdout",
     "output_type": "stream",
     "text": [
      "number of recipes: 3640\n"
     ]
    }
   ],
   "source": [
    "print(f'number of recipes: {edacopy.shape[0]}')"
   ]
  },
  {
   "cell_type": "markdown",
   "metadata": {},
   "source": [
    "## Dendrograms"
   ]
  },
  {
   "cell_type": "code",
   "execution_count": 101,
   "metadata": {},
   "outputs": [],
   "source": [
    "# if starting from here\n",
    "edacopy = pd.read_csv('edacopy.csv')\n",
    "edacopy.drop(columns='Unnamed: 0', inplace = True)"
   ]
  },
  {
   "cell_type": "code",
   "execution_count": 164,
   "metadata": {},
   "outputs": [],
   "source": [
    "Z_ward = linkage(edacopy, 'ward') # Ward variance minimization algorithm\n",
    "Z_single = linkage(edacopy, 'single') # Nearest Point Algorithm\n",
    "Z_complete = linkage(edacopy, 'complete') # Farthest Point Algorithm\n",
    "Z_average = linkage(edacopy, 'average') # UPGMA algorithm"
   ]
  },
  {
   "cell_type": "code",
   "execution_count": 165,
   "metadata": {},
   "outputs": [
    {
     "data": {
      "image/png": "[encoded data removed]",
      "text/plain": [
       "<Figure size 2160x1080 with 4 Axes>"
      ]
     },
     "metadata": {
      "needs_background": "light"
     },
     "output_type": "display_data"
    }
   ],
   "source": [
    "plt.figure(figsize=(30, 15))\n",
    "\n",
    "plt.subplot(221)\n",
    "dendrogram(Z_complete, truncate_mode='lastp', leaf_rotation=45., p=18, leaf_font_size=17., show_contracted=True)\n",
    "plt.ylim((0, 150))\n",
    "plt.title('Complete')\n",
    "plt.ylabel('Distance between clusters')\n",
    "\n",
    "plt.subplot(222)\n",
    "dendrogram(Z_single, truncate_mode='lastp', leaf_rotation=45., p=18, leaf_font_size=17., show_contracted=True)\n",
    "plt.ylim((0, 150))\n",
    "plt.title('Single')\n",
    "\n",
    "plt.subplot(223)\n",
    "dendrogram(Z_ward, truncate_mode='lastp', leaf_rotation=45., p=18, leaf_font_size=17., show_contracted=True)\n",
    "plt.ylim((0, 150))\n",
    "plt.title('Ward')\n",
    "\n",
    "plt.subplot(224)\n",
    "dendrogram(Z_average, truncate_mode='lastp', leaf_rotation=45., p=18, leaf_font_size=17., show_contracted=True)\n",
    "plt.ylim((0, 150))\n",
    "plt.title('Average')\n",
    "\n",
    "\n",
    "plt.show()"
   ]
  },
  {
   "cell_type": "code",
   "execution_count": 183,
   "metadata": {},
   "outputs": [
    {
     "name": "stdout",
     "output_type": "stream",
     "text": [
      "0: 48\n",
      "1: 198\n",
      "2: 242\n",
      "3: 93\n",
      "4: 328\n",
      "5: 87\n",
      "6: 82\n",
      "7: 50\n",
      "8: 73\n",
      "9: 85\n",
      "10: 47\n",
      "11: 46\n",
      "12: 92\n",
      "13: 31\n",
      "14: 19\n",
      "15: 135\n",
      "16: 84\n",
      "17: 56\n",
      "18: 46\n",
      "19: 312\n",
      "20: 73\n",
      "21: 39\n",
      "22: 86\n",
      "23: 26\n",
      "24: 84\n",
      "25: 147\n",
      "26: 26\n",
      "27: 118\n",
      "28: 12\n",
      "29: 22\n",
      "30: 48\n",
      "31: 27\n",
      "32: 23\n",
      "33: 24\n",
      "34: 109\n",
      "35: 18\n",
      "36: 47\n",
      "37: 24\n",
      "38: 19\n",
      "39: 24\n",
      "40: 53\n",
      "41: 46\n",
      "42: 58\n",
      "43: 67\n",
      "44: 65\n",
      "45: 15\n",
      "46: 66\n",
      "47: 35\n",
      "48: 59\n",
      "49: 26\n",
      "3640\n"
     ]
    }
   ],
   "source": [
    "hclustering_ward = AgglomerativeClustering(linkage='ward', n_clusters=50)\n",
    "hclustering_ward.fit(edacopy)\n",
    "c = {i:0 for i in range(50)}\n",
    "for i in hclustering_ward.labels_:\n",
    "    c[i] += 1\n",
    "total = 0\n",
    "for i, v in c.items():\n",
    "    total += v\n",
    "    print(f'{i}: {v}')\n",
    "print(total)"
   ]
  },
  {
   "cell_type": "code",
   "execution_count": 191,
   "metadata": {},
   "outputs": [
    {
     "data": {
      "text/plain": [
       "array([16, 13, 40, ..., 37, 36, 37], dtype=int32)"
      ]
     },
     "execution_count": 191,
     "metadata": {},
     "output_type": "execute_result"
    }
   ],
   "source": [
    "kmeans = KMeans(n_clusters=45)\n",
    "kmeans.fit_predict(edamtx)\n"
   ]
  },
  {
   "cell_type": "code",
   "execution_count": 192,
   "metadata": {},
   "outputs": [
    {
     "name": "stdout",
     "output_type": "stream",
     "text": [
      "0: 20\n",
      "1: 56\n",
      "2: 49\n",
      "3: 88\n",
      "4: 121\n",
      "5: 71\n",
      "6: 312\n",
      "7: 18\n",
      "8: 150\n",
      "9: 98\n",
      "10: 37\n",
      "11: 88\n",
      "12: 40\n",
      "13: 109\n",
      "14: 88\n",
      "15: 108\n",
      "16: 86\n",
      "17: 102\n",
      "18: 61\n",
      "19: 106\n",
      "20: 80\n",
      "21: 53\n",
      "22: 153\n",
      "23: 61\n",
      "24: 101\n",
      "25: 102\n",
      "26: 22\n",
      "27: 29\n",
      "28: 142\n",
      "29: 23\n",
      "30: 18\n",
      "31: 47\n",
      "32: 1\n",
      "33: 42\n",
      "34: 60\n",
      "35: 145\n",
      "36: 48\n",
      "37: 368\n",
      "38: 10\n",
      "39: 57\n",
      "40: 74\n",
      "41: 13\n",
      "42: 143\n",
      "43: 29\n",
      "44: 11\n",
      "3640\n"
     ]
    }
   ],
   "source": [
    "c = {i: 0 for i in range(45)}\n",
    "for i in kmeans.labels_:\n",
    "    c[i] += 1\n",
    "total = 0\n",
    "for i, v in c.items():\n",
    "    total += v\n",
    "    print(f'{i}: {v}')\n",
    "print(total)"
   ]
  },
  {
   "cell_type": "code",
   "execution_count": 199,
   "metadata": {},
   "outputs": [
    {
     "data": {
      "text/plain": [
       "array([16, 36], dtype=int32)"
      ]
     },
     "execution_count": 199,
     "metadata": {},
     "output_type": "execute_result"
    }
   ],
   "source": [
    "# \"new\" data\n",
    "newdata = edacopy.loc[[3, 4], :]\n",
    "kmeans.predict(newdata)\n"
   ]
  },
  {
   "cell_type": "code",
   "execution_count": 214,
   "metadata": {},
   "outputs": [
    {
     "data": {
      "text/plain": [
       "array([[3.2735, 0.    , 0.    , ..., 0.    , 0.    , 0.    ],\n",
       "       [4.0301, 0.    , 0.1542, ..., 0.    , 0.    , 0.    ],\n",
       "       [3.7069, 0.    , 0.    , ..., 0.    , 0.    , 0.    ],\n",
       "       ...,\n",
       "       [3.3619, 0.    , 0.0672, ..., 0.    , 0.    , 0.    ],\n",
       "       [3.6329, 0.2838, 0.748 , ..., 0.    , 0.    , 0.    ],\n",
       "       [3.5677, 0.    , 0.    , ..., 0.    , 0.    , 0.    ]])"
      ]
     },
     "execution_count": 214,
     "metadata": {},
     "output_type": "execute_result"
    }
   ],
   "source": [
    "kmeans.cluster_centers_"
   ]
  },
  {
   "cell_type": "markdown",
   "metadata": {},
   "source": [
    "## Other models (work worse)"
   ]
  },
  {
   "cell_type": "code",
   "execution_count": 152,
   "metadata": {},
   "outputs": [
    {
     "name": "stdout",
     "output_type": "stream",
     "text": [
      "0: 125\n",
      "1: 371\n",
      "2: 3\n",
      "3: 2867\n",
      "4: 2\n",
      "5: 2\n",
      "6: 24\n",
      "7: 2\n",
      "8: 225\n",
      "9: 8\n",
      "10: 4\n",
      "11: 1\n",
      "12: 1\n",
      "13: 1\n",
      "14: 1\n",
      "15: 1\n",
      "16: 1\n",
      "17: 1\n"
     ]
    }
   ],
   "source": [
    "hclustering_complete = AgglomerativeClustering(linkage='complete', n_clusters=18)\n",
    "hclustering_complete.fit_predict(edacopy)\n",
    "c = {i:0 for i in range(18)}\n",
    "for i in hclustering_complete.labels_:\n",
    "    c[i] += 1\n",
    "for i, v in c.items():\n",
    "    print(f'{i}: {v}')"
   ]
  },
  {
   "cell_type": "code",
   "execution_count": 153,
   "metadata": {},
   "outputs": [
    {
     "name": "stdout",
     "output_type": "stream",
     "text": [
      "0: 3623\n",
      "1: 1\n",
      "2: 1\n",
      "3: 1\n",
      "4: 1\n",
      "5: 1\n",
      "6: 1\n",
      "7: 1\n",
      "8: 1\n",
      "9: 1\n",
      "10: 1\n",
      "11: 1\n",
      "12: 1\n",
      "13: 1\n",
      "14: 1\n",
      "15: 1\n",
      "16: 1\n",
      "17: 1\n"
     ]
    }
   ],
   "source": [
    "hclustering_single = AgglomerativeClustering(linkage='single', n_clusters=18)\n",
    "hclustering_single.fit_predict(edacopy)\n",
    "c = {i:0 for i in range(18)}\n",
    "for i in hclustering_single.labels_:\n",
    "    c[i] += 1\n",
    "for i, v in c.items():\n",
    "    print(f'{i}: {v}')"
   ]
  },
  {
   "cell_type": "code",
   "execution_count": 106,
   "metadata": {},
   "outputs": [],
   "source": [
    "# edacopy.drop(columns='minutes', inplace=True)\n",
    "idf = []\n",
    "for i in range(len(edacopy.columns)):\n",
    "    try:\n",
    "        idf.append(round(math.log2(edacopy.shape[0]/edacopy[edacopy[edacopy.columns[i]] != 0].shape[0]), 2))\n",
    "    except ZeroDivisionError:\n",
    "        idf.append(1)"
   ]
  },
  {
   "cell_type": "code",
   "execution_count": 111,
   "metadata": {},
   "outputs": [
    {
     "data": {
      "text/plain": [
       "(775, 775)"
      ]
     },
     "execution_count": 111,
     "metadata": {},
     "output_type": "execute_result"
    }
   ],
   "source": [
    "len(idf), len(edacopy.columns)"
   ]
  },
  {
   "cell_type": "code",
   "execution_count": 112,
   "metadata": {},
   "outputs": [],
   "source": [
    "for column in range(len(edacopy.columns)):\n",
    "    for i in range(edacopy.shape[0]):\n",
    "        edacopy.loc[i, edacopy.columns[column]] = edacopy.loc[i, edacopy.columns[column]]/idf[column] "
   ]
  },
  {
   "cell_type": "code",
   "execution_count": 114,
   "metadata": {},
   "outputs": [],
   "source": [
    "edacopy.to_csv('edatfidf.csv')"
   ]
  },
  {
   "cell_type": "code",
   "execution_count": 115,
   "metadata": {},
   "outputs": [
    {
     "name": "stdout",
     "output_type": "stream",
     "text": [
      "0: 1760\n",
      "1: 1\n",
      "2: 1\n",
      "3: 1\n",
      "4: 1\n",
      "5: 1\n",
      "6: 1\n",
      "7: 1\n",
      "8: 1\n",
      "9: 1\n"
     ]
    }
   ],
   "source": [
    "hclustering_ward_tfidf = AgglomerativeClustering(linkage='ward', n_clusters=10)\n",
    "hclustering_ward.fit_predict(edacopy)\n",
    "c = {i:0 for i in range(10)}\n",
    "for i in hclustering_ward.labels_:\n",
    "    c[i] += 1\n",
    "for i, v in c.items():\n",
    "    print(f'{i}: {v}')"
   ]
  },
  {
   "cell_type": "code",
   "execution_count": null,
   "metadata": {},
   "outputs": [],
   "source": []
  }
 ],
 "metadata": {
  "kernelspec": {
   "display_name": "Python 3",
   "language": "python",
   "name": "python3"
  },
  "language_info": {
   "codemirror_mode": {
    "name": "ipython",
    "version": 3
   },
   "file_extension": ".py",
   "mimetype": "text/x-python",
   "name": "python",
   "nbconvert_exporter": "python",
   "pygments_lexer": "ipython3",
   "version": "3.7.1"
  }
 },
 "nbformat": 4,
 "nbformat_minor": 2
}
