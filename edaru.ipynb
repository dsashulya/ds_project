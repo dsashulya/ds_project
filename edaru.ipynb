{
 "cells": [
  {
   "cell_type": "code",
   "execution_count": 257,
   "metadata": {},
   "outputs": [],
   "source": [
    "import pandas as pd\n",
    "import numpy as np\n",
    "import json\n",
    "import re\n",
    "from collections import defaultdict\n",
    "from scipy import sparse\n",
    "from sklearn.cluster import KMeans\n",
    "from sklearn.metrics import silhouette_score\n",
    "from scipy.cluster import hierarchy\n",
    "import matplotlib.pyplot as plt\n",
    "%matplotlib inline"
   ]
  },
  {
   "cell_type": "code",
   "execution_count": 5,
   "metadata": {},
   "outputs": [],
   "source": [
    "eda = pd.read_csv('../WebScraping/edaru.csv')"
   ]
  },
  {
   "cell_type": "code",
   "execution_count": 21,
   "metadata": {},
   "outputs": [],
   "source": [
    "ingredients = {}\n",
    "for ings in eda.loc[:, 'ingredients'].values:\n",
    "    for i in eval(ings):\n",
    "        ingredients[eval(i)['id']] = eval(i)['name']"
   ]
  },
  {
   "cell_type": "code",
   "execution_count": 22,
   "metadata": {},
   "outputs": [
    {
     "data": {
      "text/plain": [
       "775"
      ]
     },
     "execution_count": 22,
     "metadata": {},
     "output_type": "execute_result"
    }
   ],
   "source": [
    "len(ingredients)"
   ]
  },
  {
   "cell_type": "code",
   "execution_count": 25,
   "metadata": {},
   "outputs": [],
   "source": [
    "with open('ingredients.json', 'w') as f:\n",
    "    json.dump(ingredients, f)"
   ]
  },
  {
   "cell_type": "code",
   "execution_count": 110,
   "metadata": {},
   "outputs": [
    {
     "data": {
      "text/html": [
       "<div>\n",
       "<style scoped>\n",
       "    .dataframe tbody tr th:only-of-type {\n",
       "        vertical-align: middle;\n",
       "    }\n",
       "\n",
       "    .dataframe tbody tr th {\n",
       "        vertical-align: top;\n",
       "    }\n",
       "\n",
       "    .dataframe thead th {\n",
       "        text-align: right;\n",
       "    }\n",
       "</style>\n",
       "<table border=\"1\" class=\"dataframe\">\n",
       "  <thead>\n",
       "    <tr style=\"text-align: right;\">\n",
       "      <th></th>\n",
       "      <th>img</th>\n",
       "      <th>title</th>\n",
       "      <th>link</th>\n",
       "      <th>stepbystep</th>\n",
       "      <th>cuisine</th>\n",
       "      <th>portions</th>\n",
       "      <th>time</th>\n",
       "      <th>ingredients</th>\n",
       "      <th>favourite</th>\n",
       "      <th>likes</th>\n",
       "      <th>dislikes</th>\n",
       "      <th>us</th>\n",
       "      <th>eu</th>\n",
       "      <th>ru</th>\n",
       "      <th>minutes</th>\n",
       "    </tr>\n",
       "  </thead>\n",
       "  <tbody>\n",
       "    <tr>\n",
       "      <th>0</th>\n",
       "      <td>https://img05.rl0.ru/eda/c285x285i/s1.eda.ru/P...</td>\n",
       "      <td>Брауни (brownie)</td>\n",
       "      <td>https://eda.ru/recepty/vypechka-deserty/brauni...</td>\n",
       "      <td>1</td>\n",
       "      <td>Американская кухня</td>\n",
       "      <td>6</td>\n",
       "      <td>40 минут</td>\n",
       "      <td>['{\"id\": 14797, \"name\": \"Темный шоколад\", \"amo...</td>\n",
       "      <td>25312</td>\n",
       "      <td>2996</td>\n",
       "      <td>247</td>\n",
       "      <td>1</td>\n",
       "      <td>0</td>\n",
       "      <td>0</td>\n",
       "      <td>40</td>\n",
       "    </tr>\n",
       "    <tr>\n",
       "      <th>1</th>\n",
       "      <td>https://img01.rl0.ru/eda/c285x285i/s2.eda.ru/P...</td>\n",
       "      <td>Цветаевский яблочный пирог</td>\n",
       "      <td>https://eda.ru/recepty/vypechka-deserty/cvetae...</td>\n",
       "      <td>1</td>\n",
       "      <td>Европейская кухня</td>\n",
       "      <td>4</td>\n",
       "      <td>0</td>\n",
       "      <td>['{\"id\": 13447, \"name\": \"Яблоко\", \"amount\": \"1...</td>\n",
       "      <td>15207</td>\n",
       "      <td>1960</td>\n",
       "      <td>190</td>\n",
       "      <td>0</td>\n",
       "      <td>1</td>\n",
       "      <td>0</td>\n",
       "      <td>0</td>\n",
       "    </tr>\n",
       "    <tr>\n",
       "      <th>2</th>\n",
       "      <td>https://img05.rl0.ru/eda/c285x285i/s1.eda.ru/P...</td>\n",
       "      <td>Классическая шарлотка</td>\n",
       "      <td>https://eda.ru/recepty/vypechka-deserty/klassi...</td>\n",
       "      <td>1</td>\n",
       "      <td>Русская кухня</td>\n",
       "      <td>12</td>\n",
       "      <td>35 минут</td>\n",
       "      <td>['{\"id\": 13410, \"name\": \"Сахар\", \"amount\": \"1 ...</td>\n",
       "      <td>18829</td>\n",
       "      <td>1948</td>\n",
       "      <td>223</td>\n",
       "      <td>0</td>\n",
       "      <td>0</td>\n",
       "      <td>1</td>\n",
       "      <td>35</td>\n",
       "    </tr>\n",
       "    <tr>\n",
       "      <th>3</th>\n",
       "      <td>https://img09.rl0.ru/eda/c285x285i/s2.eda.ru/P...</td>\n",
       "      <td>Тонкие блины на молоке</td>\n",
       "      <td>https://eda.ru/recepty/vypechka-deserty/tonkie...</td>\n",
       "      <td>1</td>\n",
       "      <td>NaN</td>\n",
       "      <td>4</td>\n",
       "      <td>40 минут</td>\n",
       "      <td>['{\"id\": 13458, \"name\": \"Пшеничная мука\", \"amo...</td>\n",
       "      <td>14250</td>\n",
       "      <td>1707</td>\n",
       "      <td>288</td>\n",
       "      <td>0</td>\n",
       "      <td>0</td>\n",
       "      <td>0</td>\n",
       "      <td>40</td>\n",
       "    </tr>\n",
       "  </tbody>\n",
       "</table>\n",
       "</div>"
      ],
      "text/plain": [
       "                                                 img  \\\n",
       "0  https://img05.rl0.ru/eda/c285x285i/s1.eda.ru/P...   \n",
       "1  https://img01.rl0.ru/eda/c285x285i/s2.eda.ru/P...   \n",
       "2  https://img05.rl0.ru/eda/c285x285i/s1.eda.ru/P...   \n",
       "3  https://img09.rl0.ru/eda/c285x285i/s2.eda.ru/P...   \n",
       "\n",
       "                        title  \\\n",
       "0            Брауни (brownie)   \n",
       "1  Цветаевский яблочный пирог   \n",
       "2       Классическая шарлотка   \n",
       "3      Тонкие блины на молоке   \n",
       "\n",
       "                                                link stepbystep  \\\n",
       "0  https://eda.ru/recepty/vypechka-deserty/brauni...          1   \n",
       "1  https://eda.ru/recepty/vypechka-deserty/cvetae...          1   \n",
       "2  https://eda.ru/recepty/vypechka-deserty/klassi...          1   \n",
       "3  https://eda.ru/recepty/vypechka-deserty/tonkie...          1   \n",
       "\n",
       "              cuisine  portions      time  \\\n",
       "0  Американская кухня         6  40 минут   \n",
       "1   Европейская кухня         4         0   \n",
       "2       Русская кухня        12  35 минут   \n",
       "3                 NaN         4  40 минут   \n",
       "\n",
       "                                         ingredients  favourite  likes  \\\n",
       "0  ['{\"id\": 14797, \"name\": \"Темный шоколад\", \"amo...      25312   2996   \n",
       "1  ['{\"id\": 13447, \"name\": \"Яблоко\", \"amount\": \"1...      15207   1960   \n",
       "2  ['{\"id\": 13410, \"name\": \"Сахар\", \"amount\": \"1 ...      18829   1948   \n",
       "3  ['{\"id\": 13458, \"name\": \"Пшеничная мука\", \"amo...      14250   1707   \n",
       "\n",
       "   dislikes us  eu  ru  minutes  \n",
       "0       247  1   0   0       40  \n",
       "1       190  0   1   0        0  \n",
       "2       223  0   0   1       35  \n",
       "3       288  0   0   0       40  "
      ]
     },
     "execution_count": 110,
     "metadata": {},
     "output_type": "execute_result"
    }
   ],
   "source": [
    "eda.head(4)"
   ]
  },
  {
   "cell_type": "code",
   "execution_count": 34,
   "metadata": {},
   "outputs": [],
   "source": [
    "eda['us'] = np.where(eda.cuisine.str.contains('Американская', na=False), 1, 0) # na=False returns 0 when nan\n",
    "eda.us = eda.us.astype('category')"
   ]
  },
  {
   "cell_type": "code",
   "execution_count": 36,
   "metadata": {},
   "outputs": [],
   "source": [
    "eda['eu'] = np.where(eda.cuisine.str.contains('Европейская', na=False), 1, 0) # na=False returns 0 when nan\n",
    "eda.us = eda.us.astype('category')\n",
    "eda['ru'] = np.where(eda.cuisine.str.contains('Русская', na=False), 1, 0) # na=False returns 0 when nan\n",
    "eda.us = eda.us.astype('category')"
   ]
  },
  {
   "cell_type": "code",
   "execution_count": 42,
   "metadata": {},
   "outputs": [],
   "source": [
    "eda.stepbystep = eda.stepbystep.astype('category')"
   ]
  },
  {
   "cell_type": "code",
   "execution_count": 63,
   "metadata": {},
   "outputs": [
    {
     "name": "stdout",
     "output_type": "stream",
     "text": [
      "out of 1769 recipes, 446 (25.2%) are missing cuisine\n",
      "american: 141\n",
      "european: 375\n",
      "russian: 286\n",
      "step by step: 85\n",
      "164 missing time\n"
     ]
    }
   ],
   "source": [
    "print(f'out of {eda.shape[0]} recipes, {eda.cuisine.isna().sum()} \\\n",
    "({round(100*eda.cuisine.isna().sum()/eda.shape[0], 1)}%) are missing cuisine')\n",
    "print(f'american: {eda[eda.us == 1].shape[0]}\\n\\\n",
    "european: {eda[eda.eu == 1].shape[0]}\\n\\\n",
    "russian: {eda[eda.ru == 1].shape[0]}')\n",
    "print(f'step by step: {eda[eda.stepbystep == 1].shape[0]}')\n",
    "print(f'{eda.time.isna().sum()} missing time') # use average? median? "
   ]
  },
  {
   "cell_type": "code",
   "execution_count": 70,
   "metadata": {},
   "outputs": [],
   "source": [
    "eda.time = eda.time.fillna(0)"
   ]
  },
  {
   "cell_type": "code",
   "execution_count": 105,
   "metadata": {},
   "outputs": [],
   "source": [
    "minutes = []\n",
    "hour = re.compile('час')\n",
    "mins = re.compile('минут')\n",
    "for time in eda.loc[:, 'time'].values:\n",
    "    if time == 0:\n",
    "        minutes.append(0)\n",
    "        \n",
    "    else:\n",
    "        \n",
    "        # if end with hours\n",
    "        if hour.search(time.split(' ')[-1]):\n",
    "            t = int(time.split(' ')[-2])*60\n",
    "            minutes.append(t)\n",
    "            \n",
    "        \n",
    "        # if ends with minutes\n",
    "        elif mins.search(time.split(' ')[-1]):\n",
    "            t = int(time.split(' ')[-2])\n",
    "        \n",
    "            # check if contains hours\n",
    "            try:\n",
    "                t += int(time.split(' ')[-4])*60\n",
    "                minutes.append(t)\n",
    "            except IndexError:\n",
    "                minutes.append(t)\n",
    "                \n",
    "eda['minutes'] = minutes"
   ]
  },
  {
   "cell_type": "code",
   "execution_count": 111,
   "metadata": {},
   "outputs": [],
   "source": [
    "edacopy = eda.loc[:, ['stepbystep', 'cuisine', 'portions', 'ingredients', 'favourite', 'likes', 'dislikes', 'minutes']]"
   ]
  },
  {
   "cell_type": "code",
   "execution_count": 112,
   "metadata": {},
   "outputs": [
    {
     "data": {
      "text/html": [
       "<div>\n",
       "<style scoped>\n",
       "    .dataframe tbody tr th:only-of-type {\n",
       "        vertical-align: middle;\n",
       "    }\n",
       "\n",
       "    .dataframe tbody tr th {\n",
       "        vertical-align: top;\n",
       "    }\n",
       "\n",
       "    .dataframe thead th {\n",
       "        text-align: right;\n",
       "    }\n",
       "</style>\n",
       "<table border=\"1\" class=\"dataframe\">\n",
       "  <thead>\n",
       "    <tr style=\"text-align: right;\">\n",
       "      <th></th>\n",
       "      <th>stepbystep</th>\n",
       "      <th>cuisine</th>\n",
       "      <th>portions</th>\n",
       "      <th>ingredients</th>\n",
       "      <th>favourite</th>\n",
       "      <th>likes</th>\n",
       "      <th>dislikes</th>\n",
       "      <th>minutes</th>\n",
       "    </tr>\n",
       "  </thead>\n",
       "  <tbody>\n",
       "    <tr>\n",
       "      <th>0</th>\n",
       "      <td>1</td>\n",
       "      <td>Американская кухня</td>\n",
       "      <td>6</td>\n",
       "      <td>['{\"id\": 14797, \"name\": \"Темный шоколад\", \"amo...</td>\n",
       "      <td>25312</td>\n",
       "      <td>2996</td>\n",
       "      <td>247</td>\n",
       "      <td>40</td>\n",
       "    </tr>\n",
       "    <tr>\n",
       "      <th>1</th>\n",
       "      <td>1</td>\n",
       "      <td>Европейская кухня</td>\n",
       "      <td>4</td>\n",
       "      <td>['{\"id\": 13447, \"name\": \"Яблоко\", \"amount\": \"1...</td>\n",
       "      <td>15207</td>\n",
       "      <td>1960</td>\n",
       "      <td>190</td>\n",
       "      <td>0</td>\n",
       "    </tr>\n",
       "    <tr>\n",
       "      <th>2</th>\n",
       "      <td>1</td>\n",
       "      <td>Русская кухня</td>\n",
       "      <td>12</td>\n",
       "      <td>['{\"id\": 13410, \"name\": \"Сахар\", \"amount\": \"1 ...</td>\n",
       "      <td>18829</td>\n",
       "      <td>1948</td>\n",
       "      <td>223</td>\n",
       "      <td>35</td>\n",
       "    </tr>\n",
       "    <tr>\n",
       "      <th>3</th>\n",
       "      <td>1</td>\n",
       "      <td>NaN</td>\n",
       "      <td>4</td>\n",
       "      <td>['{\"id\": 13458, \"name\": \"Пшеничная мука\", \"amo...</td>\n",
       "      <td>14250</td>\n",
       "      <td>1707</td>\n",
       "      <td>288</td>\n",
       "      <td>40</td>\n",
       "    </tr>\n",
       "    <tr>\n",
       "      <th>4</th>\n",
       "      <td>0</td>\n",
       "      <td>NaN</td>\n",
       "      <td>4</td>\n",
       "      <td>['{\"id\": 13418, \"name\": \"Яйцо куриное\", \"amoun...</td>\n",
       "      <td>12575</td>\n",
       "      <td>1489</td>\n",
       "      <td>253</td>\n",
       "      <td>60</td>\n",
       "    </tr>\n",
       "  </tbody>\n",
       "</table>\n",
       "</div>"
      ],
      "text/plain": [
       "  stepbystep             cuisine  portions  \\\n",
       "0          1  Американская кухня         6   \n",
       "1          1   Европейская кухня         4   \n",
       "2          1       Русская кухня        12   \n",
       "3          1                 NaN         4   \n",
       "4          0                 NaN         4   \n",
       "\n",
       "                                         ingredients  favourite  likes  \\\n",
       "0  ['{\"id\": 14797, \"name\": \"Темный шоколад\", \"amo...      25312   2996   \n",
       "1  ['{\"id\": 13447, \"name\": \"Яблоко\", \"amount\": \"1...      15207   1960   \n",
       "2  ['{\"id\": 13410, \"name\": \"Сахар\", \"amount\": \"1 ...      18829   1948   \n",
       "3  ['{\"id\": 13458, \"name\": \"Пшеничная мука\", \"amo...      14250   1707   \n",
       "4  ['{\"id\": 13418, \"name\": \"Яйцо куриное\", \"amoun...      12575   1489   \n",
       "\n",
       "   dislikes  minutes  \n",
       "0       247       40  \n",
       "1       190        0  \n",
       "2       223       35  \n",
       "3       288       40  \n",
       "4       253       60  "
      ]
     },
     "execution_count": 112,
     "metadata": {},
     "output_type": "execute_result"
    }
   ],
   "source": [
    "edacopy.head()"
   ]
  },
  {
   "cell_type": "code",
   "execution_count": 132,
   "metadata": {},
   "outputs": [
    {
     "data": {
      "text/plain": [
       "{'',\n",
       " 'банка',\n",
       " 'банки',\n",
       " 'веточки',\n",
       " 'вкусу',\n",
       " 'г',\n",
       " 'головка',\n",
       " 'головки',\n",
       " 'головок',\n",
       " 'зубчик',\n",
       " 'зубчика',\n",
       " 'зубчиков',\n",
       " 'кг',\n",
       " 'кончике ножа',\n",
       " 'куска',\n",
       " 'кусков',\n",
       " 'кусок',\n",
       " 'л',\n",
       " 'мл',\n",
       " 'пучка',\n",
       " 'пучок',\n",
       " 'стакан',\n",
       " 'стакана',\n",
       " 'стаканов',\n",
       " 'стебель',\n",
       " 'стеблей',\n",
       " 'стебля',\n",
       " 'столовая ложка',\n",
       " 'столовой ложки',\n",
       " 'столовые ложки',\n",
       " 'столовых ложек',\n",
       " 'чайная ложка',\n",
       " 'чайной ложки',\n",
       " 'чайные ложки',\n",
       " 'чайных ложек',\n",
       " 'штук',\n",
       " 'штука',\n",
       " 'штуки'}"
      ]
     },
     "execution_count": 132,
     "metadata": {},
     "output_type": "execute_result"
    }
   ],
   "source": [
    "s = set()\n",
    "for ings in edacopy.loc[:, 'ingredients'].values:\n",
    "    for i in eval(ings):\n",
    "        s.add(' '.join(eval(i)['amount'].split(' ')[1:]))\n",
    "s"
   ]
  },
  {
   "cell_type": "code",
   "execution_count": 122,
   "metadata": {},
   "outputs": [],
   "source": [
    "for i in ingredients:\n",
    "    edacopy[str(i)] = 0"
   ]
  },
  {
   "cell_type": "code",
   "execution_count": 194,
   "metadata": {},
   "outputs": [
    {
     "data": {
      "text/plain": [
       "(1769, 783)"
      ]
     },
     "execution_count": 194,
     "metadata": {},
     "output_type": "execute_result"
    }
   ],
   "source": [
    "edacopy.shape"
   ]
  },
  {
   "cell_type": "markdown",
   "metadata": {},
   "source": [
    "## Веса продуктов\n",
    "\n",
    "яйцо = 50г\n",
    "\n",
    "яблоко = 175г\n",
    "\n",
    "банан = 200г\n",
    "\n",
    "стакан сахара/муки = 160г\n",
    "\n",
    "столовая ложка = 20г\n",
    "\n",
    "чайная ложка = 5г\n",
    "\n",
    "банка сметаны = 200г\n",
    "\n",
    "кусок = 200г\n",
    "\n",
    "кусок шоколада = 50г\n",
    "\n",
    "головка лука = 85г\n",
    "\n",
    "головка чеснока = 45г\n",
    "\n",
    "зубчик = 10г\n",
    "\n",
    "стебель = 60г\n",
    "\n",
    "по вкусу = 0г\n",
    "\n",
    "на кончике ножа = 0г\n",
    "\n",
    "щепотка = 0г\n",
    "\n",
    "мл = г\n",
    "\n",
    "л = 1000г"
   ]
  },
  {
   "cell_type": "code",
   "execution_count": 217,
   "metadata": {},
   "outputs": [],
   "source": [
    "# for each row extract ingredients\n",
    "for n in range(edacopy.shape[0]):\n",
    "    for i in eval(edacopy.loc[n, 'ingredients']):\n",
    "\n",
    "        # if grams or ml\n",
    "        if eval(i)['amount'].split(' ')[-1] == 'г' or eval(i)['amount'].split(' ')[-1] == 'мл':\n",
    "            try:\n",
    "                value = int(eval(i)['amount'].split(' ')[-2])\n",
    "            # has a comma\n",
    "            except ValueError:\n",
    "                try:\n",
    "                    value = int(''.join(eval(i)['amount'].split(' ')[-2].split(',')))\n",
    "                # a stupid fraction of a gram\n",
    "                except ValueError:\n",
    "                    value = 0\n",
    "\n",
    "        # if kg or l\n",
    "        elif eval(i)['amount'].split(' ')[-1] == 'кг' or eval(i)['amount'].split(' ')[-1] == 'л':\n",
    "            try:\n",
    "                value = int(eval(i)['amount'].split(' ')[-2])*1000\n",
    "            # has a comma\n",
    "            except ValueError:\n",
    "                try:\n",
    "                    value = int(''.join(eval(i)['amount'].split(' ')[-2].split(',')))*1000\n",
    "                # a stupid fraction of a gram\n",
    "                except ValueError:\n",
    "                    value = 500\n",
    "\n",
    "        # if an egg\n",
    "        elif re.compile('йцо').search(eval(i)['name']) or re.compile('желт').search(eval(i)['name'])\\\n",
    "                or re.compile('белок').search(eval(i)['name']):\n",
    "            value =  int(eval(i)['amount'][0])*50\n",
    "\n",
    "        # if a banana\n",
    "        elif re.compile('анан').search(eval(i)['name']):\n",
    "            try:\n",
    "                value = int(eval(i)['amount'][0])*200\n",
    "            # a stupid fraction \n",
    "            except ValueError:\n",
    "                value = 100\n",
    "\n",
    "        # if an apple:\n",
    "        elif re.compile('блоко').search(eval(i)['name']):\n",
    "            try:\n",
    "                value = int(eval(i)['amount'][0])*175\n",
    "            # a stupid fraction\n",
    "            except ValueError:\n",
    "                value =  100\n",
    "\n",
    "        # if a glass\n",
    "        elif re.compile('стакан').search(eval(i)['amount']):\n",
    "            try:\n",
    "                value = int(eval(i)['amount'][0])*160\n",
    "            # a stupid fraction\n",
    "            except ValueError:\n",
    "                value = 100\n",
    "\n",
    "        # table spoon\n",
    "        elif re.compile('стол').search(eval(i)['amount']):\n",
    "            try:\n",
    "                value = int(eval(i)['amount'][0])*20\n",
    "            # a stupid fraction\n",
    "            except ValueError:\n",
    "                value = 10\n",
    "\n",
    "        # tea spoon\n",
    "        elif re.compile('чайн').search(eval(i)['amount']):\n",
    "            try:\n",
    "                 value = int(eval(i)['amount'][0])*5\n",
    "            # a stupid fraction\n",
    "            except ValueError:\n",
    "                value = 3\n",
    "\n",
    "        # can\n",
    "        elif re.compile('банк').search(eval(i)['amount']):\n",
    "            try:\n",
    "                value = int(eval(i)['amount'][0])*200\n",
    "            # has a comma\n",
    "            except ValueError:\n",
    "                try:\n",
    "                    value = float('.'.join(eval(i)['amount'].split(' ')[0].split(',')))*200\n",
    "                # a stupid fraction\n",
    "                except ValueError:\n",
    "                     value = 100\n",
    "\n",
    "        # по вкусу\n",
    "        elif re.compile('вкус').search(eval(i)['amount']) or re.compile('нож').search(eval(i)['amount'])\\\n",
    "                or re.compile('щепотка').search(eval(i)['amount']):\n",
    "            value = 0\n",
    "\n",
    "        # chocolate\n",
    "        elif re.compile('околад').search(eval(i)['name']):\n",
    "            value = int(eval(i)['amount'][0])*20\n",
    "\n",
    "        # остальные куски\n",
    "        elif re.compile('кус').search(eval(i)['amount']):\n",
    "            value = int(eval(i)['amount'][0])*200 \n",
    "\n",
    "        # зубчики\n",
    "        elif re.compile('зубч').search(eval(i)['amount']):\n",
    "            value = int(eval(i)['amount'][0])*10\n",
    "\n",
    "        # головка лука\n",
    "        elif re.compile('головк').search(eval(i)['amount']) and re.compile('ук').search(eval(i)['name']):\n",
    "            try:\n",
    "                value = int(eval(i)['amount'][0])*85 \n",
    "            except ValueError:\n",
    "                value = 40\n",
    "\n",
    "        # головка чеснока\n",
    "        elif re.compile('головк').search(eval(i)['amount']) and re.compile('еснок').search(eval(i)['name']):\n",
    "            try:\n",
    "                value = int(eval(i)['amount'][0])*45\n",
    "            except ValueError:\n",
    "                value = 20\n",
    "\n",
    "         # стебли веточки\n",
    "        elif re.compile('стеб').search(eval(i)['amount']) or re.compile('веточ').search(eval(i)['amount']):\n",
    "            try:\n",
    "                value = int(eval(i)['amount'][0])*20\n",
    "            except ValueError:\n",
    "                value = 10\n",
    "\n",
    "        # ваниль корица печенье фундук пучки головки\n",
    "        elif re.compile('аниль').search(eval(i)['name']) or re.compile('ориц').search(eval(i)['name']) or\\\n",
    "            re.compile('ечень').search(eval(i)['name']) or re.compile('ундук').search(eval(i)['name']) or\\\n",
    "            re.compile('пуч').search(eval(i)['amount']) or re.compile('голов').search(eval(i)['amount']):\n",
    "            try:\n",
    "                value = int(eval(i)['amount'][0])*20\n",
    "            except ValueError:\n",
    "                value = 10\n",
    "\n",
    "        # remainig items\n",
    "        elif re.compile('штук').search(eval(i)['amount']):\n",
    "            try:\n",
    "                value = int(eval(i)['amount'].split(' ')[0])*150\n",
    "            except ValueError:\n",
    "                try:\n",
    "                    value = int(''.join(eval(i)['amount'].split(' ')[0].split(',')))*150\n",
    "                # a stupid fraction of a gram\n",
    "                except ValueError:\n",
    "                    value = 100\n",
    "\n",
    "        else:\n",
    "            print(i)\n",
    "\n",
    "        edacopy.loc[n, str(eval(i)['id'])] = value"
   ]
  },
  {
   "cell_type": "code",
   "execution_count": 222,
   "metadata": {},
   "outputs": [],
   "source": [
    "ings_index = {}\n",
    "num = 0\n",
    "for i in list(edacopy)[8:]:\n",
    "    ings_index[i] = num\n",
    "    num += 1"
   ]
  },
  {
   "cell_type": "code",
   "execution_count": 225,
   "metadata": {},
   "outputs": [],
   "source": [
    "with open('ings_index.json', 'w') as f:\n",
    "    json.dump(ings_index, f)"
   ]
  },
  {
   "cell_type": "code",
   "execution_count": 232,
   "metadata": {},
   "outputs": [],
   "source": [
    "edacopy = edacopy.drop(columns=['stepbystep', 'cuisine', 'portions', 'ingredients', 'favourite', 'likes', 'dislikes'])"
   ]
  },
  {
   "cell_type": "code",
   "execution_count": 234,
   "metadata": {},
   "outputs": [],
   "source": [
    "# convert to condenced sparse row\n",
    "edamtx = sparse.csr_matrix(edacopy)"
   ]
  },
  {
   "cell_type": "code",
   "execution_count": 235,
   "metadata": {},
   "outputs": [
    {
     "name": "stdout",
     "output_type": "stream",
     "text": [
      "For n_clusters = 2, silhouette score is 0.9986780356039926\n",
      "For n_clusters = 3, silhouette score is 0.9900576322013934\n",
      "For n_clusters = 4, silhouette score is 0.9897638337395733\n",
      "For n_clusters = 5, silhouette score is 0.9311105511173017\n",
      "For n_clusters = 6, silhouette score is 0.9346641086563133\n",
      "For n_clusters = 7, silhouette score is 0.9275687956283898\n",
      "For n_clusters = 8, silhouette score is 0.9358298233628269\n",
      "For n_clusters = 9, silhouette score is 0.9359834698585056\n"
     ]
    }
   ],
   "source": [
    "scores = []\n",
    "for n_clusters in range(2, 10):\n",
    "    clusterer = KMeans(n_clusters=n_clusters)\n",
    "    preds = clusterer.fit_predict(edamtx)\n",
    "    centers = clusterer.cluster_centers_\n",
    "\n",
    "    score = silhouette_score(edamtx, preds, metric='euclidean')\n",
    "    scores.append(score)\n",
    "    print (f\"For n_clusters = {n_clusters}, silhouette score is {score}\")"
   ]
  },
  {
   "cell_type": "code",
   "execution_count": 236,
   "metadata": {},
   "outputs": [
    {
     "name": "stdout",
     "output_type": "stream",
     "text": [
      "For n_clusters = 11, silhouette score is 0.9075280580115669\n",
      "For n_clusters = 12, silhouette score is 0.919148868602606\n",
      "For n_clusters = 13, silhouette score is 0.10792053791584033\n",
      "For n_clusters = 14, silhouette score is 0.1105203328462498\n",
      "For n_clusters = 15, silhouette score is 0.1076102057264956\n",
      "For n_clusters = 16, silhouette score is 0.08690741302674225\n",
      "For n_clusters = 17, silhouette score is 0.10632028302048385\n",
      "For n_clusters = 18, silhouette score is 0.10249095159997604\n",
      "For n_clusters = 19, silhouette score is 0.079687820500544\n"
     ]
    }
   ],
   "source": [
    "for n_clusters in range(11, 20):\n",
    "    clusterer = KMeans(n_clusters=n_clusters)\n",
    "    preds = clusterer.fit_predict(edamtx)\n",
    "    centers = clusterer.cluster_centers_\n",
    "\n",
    "    score = silhouette_score(edamtx, preds, metric='euclidean')\n",
    "    scores.append(score)\n",
    "    print (f\"For n_clusters = {n_clusters}, silhouette score is {score}\")"
   ]
  },
  {
   "cell_type": "code",
   "execution_count": 277,
   "metadata": {},
   "outputs": [
    {
     "data": {
      "text/plain": [
       "<Figure size 7200x5400 with 0 Axes>"
      ]
     },
     "metadata": {},
     "output_type": "display_data"
    }
   ],
   "source": [
    "fig = plt.figure(figsize=(100, 75))\n",
    "linkage = hierarchy.linkage(edacopy)\n",
    "cutree = hierarchy.cut_tree(linkage, height=10000)"
   ]
  },
  {
   "cell_type": "code",
   "execution_count": 278,
   "metadata": {},
   "outputs": [
    {
     "data": {
      "text/plain": [
       "array([ 0,  1,  2,  3,  4,  5,  6,  7,  8,  9, 10])"
      ]
     },
     "execution_count": 278,
     "metadata": {},
     "output_type": "execute_result"
    }
   ],
   "source": [
    "np.unique(cutree)"
   ]
  }
 ],
 "metadata": {
  "kernelspec": {
   "display_name": "Python 3",
   "language": "python",
   "name": "python3"
  },
  "language_info": {
   "codemirror_mode": {
    "name": "ipython",
    "version": 3
   },
   "file_extension": ".py",
   "mimetype": "text/x-python",
   "name": "python",
   "nbconvert_exporter": "python",
   "pygments_lexer": "ipython3",
   "version": "3.7.1"
  }
 },
 "nbformat": 4,
 "nbformat_minor": 2
}
